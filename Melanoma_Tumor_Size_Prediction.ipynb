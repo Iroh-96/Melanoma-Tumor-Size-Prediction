{
  "nbformat": 4,
  "nbformat_minor": 0,
  "metadata": {
    "colab": {
      "name": "Melanoma Tumor Size Prediction.ipynb",
      "provenance": []
    },
    "kernelspec": {
      "name": "python3",
      "display_name": "Python 3"
    }
  },
  "cells": [
    {
      "cell_type": "code",
      "metadata": {
        "id": "vbRxYZlKtsud"
      },
      "source": [
        "import pandas as pd\n",
        "import numpy as np\n",
        "import seaborn as sns\n",
        "import matplotlib.pyplot as plt\n",
        "from sklearn.model_selection import cross_val_score"
      ],
      "execution_count": 1,
      "outputs": []
    },
    {
      "cell_type": "code",
      "metadata": {
        "id": "U5FIx-Qbtui1"
      },
      "source": [
        "train=pd.read_csv(\"/content/Train.csv\")\n",
        "test=pd.read_csv(\"/content/Test.csv\")\n",
        "target=train.pop(\"tumor_size\")\n",
        "sub=pd.read_csv(\"/content/sample_submission.csv\")\n",
        "data=pd.concat([train,test],ignore_index=True)"
      ],
      "execution_count": 2,
      "outputs": []
    },
    {
      "cell_type": "code",
      "metadata": {
        "id": "7IAT6QxjuBBe",
        "outputId": "3f3e77ca-ea86-4a54-e9ed-d413027d4e34",
        "colab": {
          "base_uri": "https://localhost:8080/",
          "height": 185
        }
      },
      "source": [
        "data.isnull().sum() , data.shape\n"
      ],
      "execution_count": 3,
      "outputs": [
        {
          "output_type": "execute_result",
          "data": {
            "text/plain": [
              "(mass_npea         0\n",
              " size_npear        0\n",
              " malign_ratio      0\n",
              " damage_size       0\n",
              " exposed_area      0\n",
              " std_dev_malign    0\n",
              " err_malign        0\n",
              " malign_penalty    0\n",
              " damage_ratio      0\n",
              " dtype: int64, (45730, 9))"
            ]
          },
          "metadata": {
            "tags": []
          },
          "execution_count": 3
        }
      ]
    },
    {
      "cell_type": "code",
      "metadata": {
        "id": "VmHw2d44uDxK",
        "outputId": "0143be95-090e-4114-cf19-ed9444caf0ff",
        "colab": {
          "base_uri": "https://localhost:8080/",
          "height": 195
        }
      },
      "source": [
        "data.head(5)\n"
      ],
      "execution_count": 4,
      "outputs": [
        {
          "output_type": "execute_result",
          "data": {
            "text/html": [
              "<div>\n",
              "<style scoped>\n",
              "    .dataframe tbody tr th:only-of-type {\n",
              "        vertical-align: middle;\n",
              "    }\n",
              "\n",
              "    .dataframe tbody tr th {\n",
              "        vertical-align: top;\n",
              "    }\n",
              "\n",
              "    .dataframe thead th {\n",
              "        text-align: right;\n",
              "    }\n",
              "</style>\n",
              "<table border=\"1\" class=\"dataframe\">\n",
              "  <thead>\n",
              "    <tr style=\"text-align: right;\">\n",
              "      <th></th>\n",
              "      <th>mass_npea</th>\n",
              "      <th>size_npear</th>\n",
              "      <th>malign_ratio</th>\n",
              "      <th>damage_size</th>\n",
              "      <th>exposed_area</th>\n",
              "      <th>std_dev_malign</th>\n",
              "      <th>err_malign</th>\n",
              "      <th>malign_penalty</th>\n",
              "      <th>damage_ratio</th>\n",
              "    </tr>\n",
              "  </thead>\n",
              "  <tbody>\n",
              "    <tr>\n",
              "      <th>0</th>\n",
              "      <td>6930.90</td>\n",
              "      <td>2919.02</td>\n",
              "      <td>0.42116</td>\n",
              "      <td>51.8298</td>\n",
              "      <td>988829.407</td>\n",
              "      <td>109.487</td>\n",
              "      <td>2758.76</td>\n",
              "      <td>72</td>\n",
              "      <td>39.3620</td>\n",
              "    </tr>\n",
              "    <tr>\n",
              "      <th>1</th>\n",
              "      <td>15635.70</td>\n",
              "      <td>4879.36</td>\n",
              "      <td>0.31206</td>\n",
              "      <td>223.5500</td>\n",
              "      <td>2058426.301</td>\n",
              "      <td>248.881</td>\n",
              "      <td>5952.53</td>\n",
              "      <td>240</td>\n",
              "      <td>22.0253</td>\n",
              "    </tr>\n",
              "    <tr>\n",
              "      <th>2</th>\n",
              "      <td>10376.20</td>\n",
              "      <td>2613.88</td>\n",
              "      <td>0.25191</td>\n",
              "      <td>127.3370</td>\n",
              "      <td>1434676.100</td>\n",
              "      <td>160.093</td>\n",
              "      <td>4635.26</td>\n",
              "      <td>73</td>\n",
              "      <td>29.9963</td>\n",
              "    </tr>\n",
              "    <tr>\n",
              "      <th>3</th>\n",
              "      <td>13093.80</td>\n",
              "      <td>4510.06</td>\n",
              "      <td>0.34444</td>\n",
              "      <td>155.4400</td>\n",
              "      <td>1812195.183</td>\n",
              "      <td>173.015</td>\n",
              "      <td>5273.87</td>\n",
              "      <td>32</td>\n",
              "      <td>28.1354</td>\n",
              "    </tr>\n",
              "    <tr>\n",
              "      <th>4</th>\n",
              "      <td>7545.21</td>\n",
              "      <td>2882.36</td>\n",
              "      <td>0.38201</td>\n",
              "      <td>85.1237</td>\n",
              "      <td>1043917.501</td>\n",
              "      <td>124.414</td>\n",
              "      <td>3263.35</td>\n",
              "      <td>57</td>\n",
              "      <td>35.0200</td>\n",
              "    </tr>\n",
              "  </tbody>\n",
              "</table>\n",
              "</div>"
            ],
            "text/plain": [
              "   mass_npea  size_npear  ...  malign_penalty  damage_ratio\n",
              "0    6930.90     2919.02  ...              72       39.3620\n",
              "1   15635.70     4879.36  ...             240       22.0253\n",
              "2   10376.20     2613.88  ...              73       29.9963\n",
              "3   13093.80     4510.06  ...              32       28.1354\n",
              "4    7545.21     2882.36  ...              57       35.0200\n",
              "\n",
              "[5 rows x 9 columns]"
            ]
          },
          "metadata": {
            "tags": []
          },
          "execution_count": 4
        }
      ]
    },
    {
      "cell_type": "code",
      "metadata": {
        "id": "Y23MKnYSuGYN",
        "outputId": "7272de9c-118f-4805-ddab-a77137c120fb",
        "colab": {
          "base_uri": "https://localhost:8080/",
          "height": 185
        }
      },
      "source": [
        "data.dtypes\n"
      ],
      "execution_count": 5,
      "outputs": [
        {
          "output_type": "execute_result",
          "data": {
            "text/plain": [
              "mass_npea         float64\n",
              "size_npear        float64\n",
              "malign_ratio      float64\n",
              "damage_size       float64\n",
              "exposed_area      float64\n",
              "std_dev_malign    float64\n",
              "err_malign        float64\n",
              "malign_penalty      int64\n",
              "damage_ratio      float64\n",
              "dtype: object"
            ]
          },
          "metadata": {
            "tags": []
          },
          "execution_count": 5
        }
      ]
    },
    {
      "cell_type": "code",
      "metadata": {
        "id": "_ETT33bauIdW",
        "outputId": "670a2378-3662-4075-a367-272654eaac2b",
        "colab": {
          "base_uri": "https://localhost:8080/",
          "height": 284
        }
      },
      "source": [
        "data.describe()\n"
      ],
      "execution_count": 6,
      "outputs": [
        {
          "output_type": "execute_result",
          "data": {
            "text/html": [
              "<div>\n",
              "<style scoped>\n",
              "    .dataframe tbody tr th:only-of-type {\n",
              "        vertical-align: middle;\n",
              "    }\n",
              "\n",
              "    .dataframe tbody tr th {\n",
              "        vertical-align: top;\n",
              "    }\n",
              "\n",
              "    .dataframe thead th {\n",
              "        text-align: right;\n",
              "    }\n",
              "</style>\n",
              "<table border=\"1\" class=\"dataframe\">\n",
              "  <thead>\n",
              "    <tr style=\"text-align: right;\">\n",
              "      <th></th>\n",
              "      <th>mass_npea</th>\n",
              "      <th>size_npear</th>\n",
              "      <th>malign_ratio</th>\n",
              "      <th>damage_size</th>\n",
              "      <th>exposed_area</th>\n",
              "      <th>std_dev_malign</th>\n",
              "      <th>err_malign</th>\n",
              "      <th>malign_penalty</th>\n",
              "      <th>damage_ratio</th>\n",
              "    </tr>\n",
              "  </thead>\n",
              "  <tbody>\n",
              "    <tr>\n",
              "      <th>count</th>\n",
              "      <td>45730.000000</td>\n",
              "      <td>45730.000000</td>\n",
              "      <td>45730.000000</td>\n",
              "      <td>45730.000000</td>\n",
              "      <td>4.573000e+04</td>\n",
              "      <td>45730.000000</td>\n",
              "      <td>45730.000000</td>\n",
              "      <td>45730.000000</td>\n",
              "      <td>45730.000000</td>\n",
              "    </tr>\n",
              "    <tr>\n",
              "      <th>mean</th>\n",
              "      <td>9871.596995</td>\n",
              "      <td>3017.367175</td>\n",
              "      <td>0.302392</td>\n",
              "      <td>103.492433</td>\n",
              "      <td>1.368299e+06</td>\n",
              "      <td>145.638061</td>\n",
              "      <td>3989.755990</td>\n",
              "      <td>69.975071</td>\n",
              "      <td>34.523664</td>\n",
              "    </tr>\n",
              "    <tr>\n",
              "      <th>std</th>\n",
              "      <td>4058.138034</td>\n",
              "      <td>1464.324663</td>\n",
              "      <td>0.062886</td>\n",
              "      <td>55.424985</td>\n",
              "      <td>5.640367e+05</td>\n",
              "      <td>69.999230</td>\n",
              "      <td>1993.574575</td>\n",
              "      <td>56.493443</td>\n",
              "      <td>5.979755</td>\n",
              "    </tr>\n",
              "    <tr>\n",
              "      <th>min</th>\n",
              "      <td>2392.050000</td>\n",
              "      <td>403.500000</td>\n",
              "      <td>0.092500</td>\n",
              "      <td>10.310100</td>\n",
              "      <td>3.194902e+05</td>\n",
              "      <td>31.970400</td>\n",
              "      <td>0.000000</td>\n",
              "      <td>0.000000</td>\n",
              "      <td>15.228000</td>\n",
              "    </tr>\n",
              "    <tr>\n",
              "      <th>25%</th>\n",
              "      <td>6936.680000</td>\n",
              "      <td>1979.045000</td>\n",
              "      <td>0.258740</td>\n",
              "      <td>63.563900</td>\n",
              "      <td>9.535912e+05</td>\n",
              "      <td>94.757500</td>\n",
              "      <td>3165.322500</td>\n",
              "      <td>31.000000</td>\n",
              "      <td>30.424725</td>\n",
              "    </tr>\n",
              "    <tr>\n",
              "      <th>50%</th>\n",
              "      <td>8898.805000</td>\n",
              "      <td>2668.155000</td>\n",
              "      <td>0.300150</td>\n",
              "      <td>87.740800</td>\n",
              "      <td>1.237219e+06</td>\n",
              "      <td>126.176000</td>\n",
              "      <td>3840.170000</td>\n",
              "      <td>54.000000</td>\n",
              "      <td>35.299300</td>\n",
              "    </tr>\n",
              "    <tr>\n",
              "      <th>75%</th>\n",
              "      <td>12126.150000</td>\n",
              "      <td>3786.410000</td>\n",
              "      <td>0.342890</td>\n",
              "      <td>133.646750</td>\n",
              "      <td>1.690920e+06</td>\n",
              "      <td>181.468500</td>\n",
              "      <td>4644.192500</td>\n",
              "      <td>91.000000</td>\n",
              "      <td>38.870800</td>\n",
              "    </tr>\n",
              "    <tr>\n",
              "      <th>max</th>\n",
              "      <td>40034.900000</td>\n",
              "      <td>15312.000000</td>\n",
              "      <td>0.577690</td>\n",
              "      <td>369.317000</td>\n",
              "      <td>5.472011e+06</td>\n",
              "      <td>598.408000</td>\n",
              "      <td>105948.170000</td>\n",
              "      <td>350.000000</td>\n",
              "      <td>55.300900</td>\n",
              "    </tr>\n",
              "  </tbody>\n",
              "</table>\n",
              "</div>"
            ],
            "text/plain": [
              "          mass_npea    size_npear  ...  malign_penalty  damage_ratio\n",
              "count  45730.000000  45730.000000  ...    45730.000000  45730.000000\n",
              "mean    9871.596995   3017.367175  ...       69.975071     34.523664\n",
              "std     4058.138034   1464.324663  ...       56.493443      5.979755\n",
              "min     2392.050000    403.500000  ...        0.000000     15.228000\n",
              "25%     6936.680000   1979.045000  ...       31.000000     30.424725\n",
              "50%     8898.805000   2668.155000  ...       54.000000     35.299300\n",
              "75%    12126.150000   3786.410000  ...       91.000000     38.870800\n",
              "max    40034.900000  15312.000000  ...      350.000000     55.300900\n",
              "\n",
              "[8 rows x 9 columns]"
            ]
          },
          "metadata": {
            "tags": []
          },
          "execution_count": 6
        }
      ]
    },
    {
      "cell_type": "code",
      "metadata": {
        "id": "GZr_kCWjuKKD",
        "outputId": "6e15df0f-9e07-48a2-c92e-8b64769ef93f",
        "colab": {
          "base_uri": "https://localhost:8080/",
          "height": 314
        }
      },
      "source": [
        "data.corr()\n"
      ],
      "execution_count": 7,
      "outputs": [
        {
          "output_type": "execute_result",
          "data": {
            "text/html": [
              "<div>\n",
              "<style scoped>\n",
              "    .dataframe tbody tr th:only-of-type {\n",
              "        vertical-align: middle;\n",
              "    }\n",
              "\n",
              "    .dataframe tbody tr th {\n",
              "        vertical-align: top;\n",
              "    }\n",
              "\n",
              "    .dataframe thead th {\n",
              "        text-align: right;\n",
              "    }\n",
              "</style>\n",
              "<table border=\"1\" class=\"dataframe\">\n",
              "  <thead>\n",
              "    <tr style=\"text-align: right;\">\n",
              "      <th></th>\n",
              "      <th>mass_npea</th>\n",
              "      <th>size_npear</th>\n",
              "      <th>malign_ratio</th>\n",
              "      <th>damage_size</th>\n",
              "      <th>exposed_area</th>\n",
              "      <th>std_dev_malign</th>\n",
              "      <th>err_malign</th>\n",
              "      <th>malign_penalty</th>\n",
              "      <th>damage_ratio</th>\n",
              "    </tr>\n",
              "  </thead>\n",
              "  <tbody>\n",
              "    <tr>\n",
              "      <th>mass_npea</th>\n",
              "      <td>1.000000</td>\n",
              "      <td>0.906606</td>\n",
              "      <td>0.126285</td>\n",
              "      <td>0.931056</td>\n",
              "      <td>0.998185</td>\n",
              "      <td>0.967531</td>\n",
              "      <td>0.554002</td>\n",
              "      <td>0.651251</td>\n",
              "      <td>-0.898240</td>\n",
              "    </tr>\n",
              "    <tr>\n",
              "      <th>size_npear</th>\n",
              "      <td>0.906606</td>\n",
              "      <td>1.000000</td>\n",
              "      <td>0.502562</td>\n",
              "      <td>0.793143</td>\n",
              "      <td>0.902853</td>\n",
              "      <td>0.908354</td>\n",
              "      <td>0.515929</td>\n",
              "      <td>0.584242</td>\n",
              "      <td>-0.786188</td>\n",
              "    </tr>\n",
              "    <tr>\n",
              "      <th>malign_ratio</th>\n",
              "      <td>0.126285</td>\n",
              "      <td>0.502562</td>\n",
              "      <td>1.000000</td>\n",
              "      <td>0.031230</td>\n",
              "      <td>0.122622</td>\n",
              "      <td>0.200650</td>\n",
              "      <td>0.080064</td>\n",
              "      <td>0.095340</td>\n",
              "      <td>-0.069039</td>\n",
              "    </tr>\n",
              "    <tr>\n",
              "      <th>damage_size</th>\n",
              "      <td>0.931056</td>\n",
              "      <td>0.793143</td>\n",
              "      <td>0.031230</td>\n",
              "      <td>1.000000</td>\n",
              "      <td>0.925707</td>\n",
              "      <td>0.938108</td>\n",
              "      <td>0.485185</td>\n",
              "      <td>0.676919</td>\n",
              "      <td>-0.891766</td>\n",
              "    </tr>\n",
              "    <tr>\n",
              "      <th>exposed_area</th>\n",
              "      <td>0.998185</td>\n",
              "      <td>0.902853</td>\n",
              "      <td>0.122622</td>\n",
              "      <td>0.925707</td>\n",
              "      <td>1.000000</td>\n",
              "      <td>0.961769</td>\n",
              "      <td>0.553729</td>\n",
              "      <td>0.642961</td>\n",
              "      <td>-0.897765</td>\n",
              "    </tr>\n",
              "    <tr>\n",
              "      <th>std_dev_malign</th>\n",
              "      <td>0.967531</td>\n",
              "      <td>0.908354</td>\n",
              "      <td>0.200650</td>\n",
              "      <td>0.938108</td>\n",
              "      <td>0.961769</td>\n",
              "      <td>1.000000</td>\n",
              "      <td>0.538198</td>\n",
              "      <td>0.662584</td>\n",
              "      <td>-0.881973</td>\n",
              "    </tr>\n",
              "    <tr>\n",
              "      <th>err_malign</th>\n",
              "      <td>0.554002</td>\n",
              "      <td>0.515929</td>\n",
              "      <td>0.080064</td>\n",
              "      <td>0.485185</td>\n",
              "      <td>0.553729</td>\n",
              "      <td>0.538198</td>\n",
              "      <td>1.000000</td>\n",
              "      <td>0.347030</td>\n",
              "      <td>-0.521148</td>\n",
              "    </tr>\n",
              "    <tr>\n",
              "      <th>malign_penalty</th>\n",
              "      <td>0.651251</td>\n",
              "      <td>0.584242</td>\n",
              "      <td>0.095340</td>\n",
              "      <td>0.676919</td>\n",
              "      <td>0.642961</td>\n",
              "      <td>0.662584</td>\n",
              "      <td>0.347030</td>\n",
              "      <td>1.000000</td>\n",
              "      <td>-0.637287</td>\n",
              "    </tr>\n",
              "    <tr>\n",
              "      <th>damage_ratio</th>\n",
              "      <td>-0.898240</td>\n",
              "      <td>-0.786188</td>\n",
              "      <td>-0.069039</td>\n",
              "      <td>-0.891766</td>\n",
              "      <td>-0.897765</td>\n",
              "      <td>-0.881973</td>\n",
              "      <td>-0.521148</td>\n",
              "      <td>-0.637287</td>\n",
              "      <td>1.000000</td>\n",
              "    </tr>\n",
              "  </tbody>\n",
              "</table>\n",
              "</div>"
            ],
            "text/plain": [
              "                mass_npea  size_npear  ...  malign_penalty  damage_ratio\n",
              "mass_npea        1.000000    0.906606  ...        0.651251     -0.898240\n",
              "size_npear       0.906606    1.000000  ...        0.584242     -0.786188\n",
              "malign_ratio     0.126285    0.502562  ...        0.095340     -0.069039\n",
              "damage_size      0.931056    0.793143  ...        0.676919     -0.891766\n",
              "exposed_area     0.998185    0.902853  ...        0.642961     -0.897765\n",
              "std_dev_malign   0.967531    0.908354  ...        0.662584     -0.881973\n",
              "err_malign       0.554002    0.515929  ...        0.347030     -0.521148\n",
              "malign_penalty   0.651251    0.584242  ...        1.000000     -0.637287\n",
              "damage_ratio    -0.898240   -0.786188  ...       -0.637287      1.000000\n",
              "\n",
              "[9 rows x 9 columns]"
            ]
          },
          "metadata": {
            "tags": []
          },
          "execution_count": 7
        }
      ]
    },
    {
      "cell_type": "code",
      "metadata": {
        "id": "2Y6olmfIuMAH"
      },
      "source": [
        "def nor(x):\n",
        "  sk=x.skew()\n",
        "  sq=(np.sqrt(x)).skew()\n",
        "  lg=(np.log1p(x)).skew()\n",
        "  return {\"skew\":sk,\"sqrt\":sq,\"log\":lg}"
      ],
      "execution_count": 8,
      "outputs": []
    },
    {
      "cell_type": "code",
      "metadata": {
        "id": "ZwHJqg7BuSxI",
        "outputId": "55375af2-525c-47b8-a2a3-5d5bc24cdf56",
        "colab": {
          "base_uri": "https://localhost:8080/",
          "height": 1000
        }
      },
      "source": [
        "plt.figure(figsize=(17,14))\n",
        "plt.subplot(3,3,1)\n",
        "sns.distplot(data.mass_npea)\n",
        "plt.subplot(3,3,2)\n",
        "sns.distplot(data.size_npear)\n",
        "plt.subplot(3,3,3)\n",
        "sns.distplot(data.malign_ratio)\n",
        "plt.subplot(3,3,4)\n",
        "sns.distplot(data.damage_size)\n",
        "plt.subplot(3,3,5)\n",
        "sns.distplot(data.exposed_area)\n",
        "plt.subplot(3,3,6)\n",
        "sns.distplot(data.std_dev_malign)\n",
        "plt.subplot(3,3,7)\n",
        "sns.distplot(data.err_malign)\n",
        "plt.subplot(3,3,8)\n",
        "sns.distplot(data.malign_penalty)\n",
        "plt.subplot(3,3,9)\n",
        "sns.distplot(data.damage_ratio)"
      ],
      "execution_count": 9,
      "outputs": [
        {
          "output_type": "stream",
          "text": [
            "/usr/local/lib/python3.6/dist-packages/seaborn/distributions.py:2551: FutureWarning: `distplot` is a deprecated function and will be removed in a future version. Please adapt your code to use either `displot` (a figure-level function with similar flexibility) or `histplot` (an axes-level function for histograms).\n",
            "  warnings.warn(msg, FutureWarning)\n",
            "/usr/local/lib/python3.6/dist-packages/seaborn/distributions.py:2551: FutureWarning: `distplot` is a deprecated function and will be removed in a future version. Please adapt your code to use either `displot` (a figure-level function with similar flexibility) or `histplot` (an axes-level function for histograms).\n",
            "  warnings.warn(msg, FutureWarning)\n",
            "/usr/local/lib/python3.6/dist-packages/seaborn/distributions.py:2551: FutureWarning: `distplot` is a deprecated function and will be removed in a future version. Please adapt your code to use either `displot` (a figure-level function with similar flexibility) or `histplot` (an axes-level function for histograms).\n",
            "  warnings.warn(msg, FutureWarning)\n",
            "/usr/local/lib/python3.6/dist-packages/seaborn/distributions.py:2551: FutureWarning: `distplot` is a deprecated function and will be removed in a future version. Please adapt your code to use either `displot` (a figure-level function with similar flexibility) or `histplot` (an axes-level function for histograms).\n",
            "  warnings.warn(msg, FutureWarning)\n",
            "/usr/local/lib/python3.6/dist-packages/seaborn/distributions.py:2551: FutureWarning: `distplot` is a deprecated function and will be removed in a future version. Please adapt your code to use either `displot` (a figure-level function with similar flexibility) or `histplot` (an axes-level function for histograms).\n",
            "  warnings.warn(msg, FutureWarning)\n",
            "/usr/local/lib/python3.6/dist-packages/seaborn/distributions.py:2551: FutureWarning: `distplot` is a deprecated function and will be removed in a future version. Please adapt your code to use either `displot` (a figure-level function with similar flexibility) or `histplot` (an axes-level function for histograms).\n",
            "  warnings.warn(msg, FutureWarning)\n",
            "/usr/local/lib/python3.6/dist-packages/seaborn/distributions.py:2551: FutureWarning: `distplot` is a deprecated function and will be removed in a future version. Please adapt your code to use either `displot` (a figure-level function with similar flexibility) or `histplot` (an axes-level function for histograms).\n",
            "  warnings.warn(msg, FutureWarning)\n",
            "/usr/local/lib/python3.6/dist-packages/seaborn/distributions.py:2551: FutureWarning: `distplot` is a deprecated function and will be removed in a future version. Please adapt your code to use either `displot` (a figure-level function with similar flexibility) or `histplot` (an axes-level function for histograms).\n",
            "  warnings.warn(msg, FutureWarning)\n",
            "/usr/local/lib/python3.6/dist-packages/seaborn/distributions.py:2551: FutureWarning: `distplot` is a deprecated function and will be removed in a future version. Please adapt your code to use either `displot` (a figure-level function with similar flexibility) or `histplot` (an axes-level function for histograms).\n",
            "  warnings.warn(msg, FutureWarning)\n"
          ],
          "name": "stderr"
        },
        {
          "output_type": "execute_result",
          "data": {
            "text/plain": [
              "<matplotlib.axes._subplots.AxesSubplot at 0x7feaa0288278>"
            ]
          },
          "metadata": {
            "tags": []
          },
          "execution_count": 9
        },
        {
          "output_type": "display_data",
          "data": {
            "image/png": "[encoded data removed]",
            "text/plain": [
              "<Figure size 1224x1008 with 9 Axes>"
            ]
          },
          "metadata": {
            "tags": [],
            "needs_background": "light"
          }
        }
      ]
    },
    {
      "cell_type": "code",
      "metadata": {
        "id": "bu3nsKxsuVCL",
        "outputId": "787ab9d7-785a-41a6-c197-b842363ef35a",
        "colab": {
          "base_uri": "https://localhost:8080/",
          "height": 84
        }
      },
      "source": [
        "data.columns\n"
      ],
      "execution_count": 10,
      "outputs": [
        {
          "output_type": "execute_result",
          "data": {
            "text/plain": [
              "Index(['mass_npea', 'size_npear', 'malign_ratio', 'damage_size',\n",
              "       'exposed_area', 'std_dev_malign', 'err_malign', 'malign_penalty',\n",
              "       'damage_ratio'],\n",
              "      dtype='object')"
            ]
          },
          "metadata": {
            "tags": []
          },
          "execution_count": 10
        }
      ]
    },
    {
      "cell_type": "code",
      "metadata": {
        "id": "yIvqxcQeuapz",
        "outputId": "070ac4da-112f-4dea-c743-230732351d99",
        "colab": {
          "base_uri": "https://localhost:8080/",
          "height": 722
        }
      },
      "source": [
        "from IPython.display import display\n",
        "display(print(\"1. mass_npea\"))\n",
        "display(nor(data.mass_npea))\n",
        "display(print(\"2. size_npear\"))\n",
        "display(nor(data.size_npear))\n",
        "display(print(\"3. malign_ratio\"))\n",
        "nor(data.malign_ratio)\n",
        "display(print(\"4. damage_size\"))\n",
        "display(nor(data.damage_size))\n",
        "display(print(\"5. exposed_area\"))\n",
        "display(nor(data.exposed_area))\n",
        "display(print(\"6. std_dev_malign\"))\n",
        "display(nor(data.std_dev_malign))\n",
        "display(print(\"7. err_malign\"))\n",
        "display(nor(data.err_malign))\n",
        "display(print(\"8. malign_penalty\"))\n",
        "display(nor(data.malign_penalty))\n",
        "display(print(\"9. damage_ratio\"))\n",
        "display(nor(data.damage_ratio))"
      ],
      "execution_count": 11,
      "outputs": [
        {
          "output_type": "stream",
          "text": [
            "1. mass_npea\n"
          ],
          "name": "stdout"
        },
        {
          "output_type": "display_data",
          "data": {
            "text/plain": [
              "None"
            ]
          },
          "metadata": {
            "tags": []
          }
        },
        {
          "output_type": "display_data",
          "data": {
            "text/plain": [
              "{'log': 0.13277783894849488,\n",
              " 'skew': 1.0922013818038485,\n",
              " 'sqrt': 0.5990078684955066}"
            ]
          },
          "metadata": {
            "tags": []
          }
        },
        {
          "output_type": "stream",
          "text": [
            "2. size_npear\n"
          ],
          "name": "stdout"
        },
        {
          "output_type": "display_data",
          "data": {
            "text/plain": [
              "None"
            ]
          },
          "metadata": {
            "tags": []
          }
        },
        {
          "output_type": "display_data",
          "data": {
            "text/plain": [
              "{'log': -0.07659414382230043,\n",
              " 'skew': 1.1906519653249468,\n",
              " 'sqrt': 0.5420932327600916}"
            ]
          },
          "metadata": {
            "tags": []
          }
        },
        {
          "output_type": "stream",
          "text": [
            "3. malign_ratio\n"
          ],
          "name": "stdout"
        },
        {
          "output_type": "display_data",
          "data": {
            "text/plain": [
              "None"
            ]
          },
          "metadata": {
            "tags": []
          }
        },
        {
          "output_type": "stream",
          "text": [
            "4. damage_size\n"
          ],
          "name": "stdout"
        },
        {
          "output_type": "display_data",
          "data": {
            "text/plain": [
              "None"
            ]
          },
          "metadata": {
            "tags": []
          }
        },
        {
          "output_type": "display_data",
          "data": {
            "text/plain": [
              "{'log': 0.15951235087970422,\n",
              " 'skew': 1.225103138079907,\n",
              " 'sqrt': 0.6857948051877383}"
            ]
          },
          "metadata": {
            "tags": []
          }
        },
        {
          "output_type": "stream",
          "text": [
            "5. exposed_area\n"
          ],
          "name": "stdout"
        },
        {
          "output_type": "display_data",
          "data": {
            "text/plain": [
              "None"
            ]
          },
          "metadata": {
            "tags": []
          }
        },
        {
          "output_type": "display_data",
          "data": {
            "text/plain": [
              "{'log': 0.10731821330735172,\n",
              " 'skew': 1.058766989823386,\n",
              " 'sqrt': 0.5704827229917164}"
            ]
          },
          "metadata": {
            "tags": []
          }
        },
        {
          "output_type": "stream",
          "text": [
            "6. std_dev_malign\n"
          ],
          "name": "stdout"
        },
        {
          "output_type": "display_data",
          "data": {
            "text/plain": [
              "None"
            ]
          },
          "metadata": {
            "tags": []
          }
        },
        {
          "output_type": "display_data",
          "data": {
            "text/plain": [
              "{'log': 0.11882170779416629,\n",
              " 'skew': 1.120759900387105,\n",
              " 'sqrt': 0.6146481212041276}"
            ]
          },
          "metadata": {
            "tags": []
          }
        },
        {
          "output_type": "stream",
          "text": [
            "7. err_malign\n"
          ],
          "name": "stdout"
        },
        {
          "output_type": "display_data",
          "data": {
            "text/plain": [
              "None"
            ]
          },
          "metadata": {
            "tags": []
          }
        },
        {
          "output_type": "display_data",
          "data": {
            "text/plain": [
              "{'log': -0.21246048244341043,\n",
              " 'skew': 20.76264434293341,\n",
              " 'sqrt': 3.88922744635358}"
            ]
          },
          "metadata": {
            "tags": []
          }
        },
        {
          "output_type": "stream",
          "text": [
            "8. malign_penalty\n"
          ],
          "name": "stdout"
        },
        {
          "output_type": "display_data",
          "data": {
            "text/plain": [
              "None"
            ]
          },
          "metadata": {
            "tags": []
          }
        },
        {
          "output_type": "display_data",
          "data": {
            "text/plain": [
              "{'log': -0.5021134141747344,\n",
              " 'skew': 1.682933176719256,\n",
              " 'sqrt': 0.6690790196434717}"
            ]
          },
          "metadata": {
            "tags": []
          }
        },
        {
          "output_type": "stream",
          "text": [
            "9. damage_ratio\n"
          ],
          "name": "stdout"
        },
        {
          "output_type": "display_data",
          "data": {
            "text/plain": [
              "None"
            ]
          },
          "metadata": {
            "tags": []
          }
        },
        {
          "output_type": "display_data",
          "data": {
            "text/plain": [
              "{'log': -0.9176452841856719,\n",
              " 'skew': -0.4726457982840867,\n",
              " 'sqrt': -0.6942170704353294}"
            ]
          },
          "metadata": {
            "tags": []
          }
        }
      ]
    },
    {
      "cell_type": "code",
      "metadata": {
        "id": "QRHwdfK8ueg7"
      },
      "source": [
        "t=pd.concat([train,test],ignore_index=True)"
      ],
      "execution_count": 12,
      "outputs": []
    },
    {
      "cell_type": "code",
      "metadata": {
        "id": "XtRKkD5aumsW",
        "outputId": "a18759fa-b7e4-478f-937d-04a869e8e3c3",
        "colab": {
          "base_uri": "https://localhost:8080/",
          "height": 77
        }
      },
      "source": [
        "t.head(1)\n"
      ],
      "execution_count": 13,
      "outputs": [
        {
          "output_type": "execute_result",
          "data": {
            "text/html": [
              "<div>\n",
              "<style scoped>\n",
              "    .dataframe tbody tr th:only-of-type {\n",
              "        vertical-align: middle;\n",
              "    }\n",
              "\n",
              "    .dataframe tbody tr th {\n",
              "        vertical-align: top;\n",
              "    }\n",
              "\n",
              "    .dataframe thead th {\n",
              "        text-align: right;\n",
              "    }\n",
              "</style>\n",
              "<table border=\"1\" class=\"dataframe\">\n",
              "  <thead>\n",
              "    <tr style=\"text-align: right;\">\n",
              "      <th></th>\n",
              "      <th>mass_npea</th>\n",
              "      <th>size_npear</th>\n",
              "      <th>malign_ratio</th>\n",
              "      <th>damage_size</th>\n",
              "      <th>exposed_area</th>\n",
              "      <th>std_dev_malign</th>\n",
              "      <th>err_malign</th>\n",
              "      <th>malign_penalty</th>\n",
              "      <th>damage_ratio</th>\n",
              "    </tr>\n",
              "  </thead>\n",
              "  <tbody>\n",
              "    <tr>\n",
              "      <th>0</th>\n",
              "      <td>6930.9</td>\n",
              "      <td>2919.02</td>\n",
              "      <td>0.42116</td>\n",
              "      <td>51.8298</td>\n",
              "      <td>988829.407</td>\n",
              "      <td>109.487</td>\n",
              "      <td>2758.76</td>\n",
              "      <td>72</td>\n",
              "      <td>39.362</td>\n",
              "    </tr>\n",
              "  </tbody>\n",
              "</table>\n",
              "</div>"
            ],
            "text/plain": [
              "   mass_npea  size_npear  ...  malign_penalty  damage_ratio\n",
              "0     6930.9     2919.02  ...              72        39.362\n",
              "\n",
              "[1 rows x 9 columns]"
            ]
          },
          "metadata": {
            "tags": []
          },
          "execution_count": 13
        }
      ]
    },
    {
      "cell_type": "code",
      "metadata": {
        "id": "Zb-mradeuoOX"
      },
      "source": [
        "t.mass_npea=np.sqrt(t.mass_npea)\n"
      ],
      "execution_count": 14,
      "outputs": []
    },
    {
      "cell_type": "code",
      "metadata": {
        "id": "gDVH0158uqeC"
      },
      "source": [
        "\n",
        "t.size_npear=np.log1p(t.size_npear)\n",
        "size=np.log1p(t.size_npear)"
      ],
      "execution_count": 15,
      "outputs": []
    },
    {
      "cell_type": "code",
      "metadata": {
        "id": "JcdkPShPuthA"
      },
      "source": [
        "\n",
        "t.malign_ratio=np.log1p(t.malign_ratio)"
      ],
      "execution_count": 16,
      "outputs": []
    },
    {
      "cell_type": "code",
      "metadata": {
        "id": "Bdz4dQa5uu2A"
      },
      "source": [
        "t.damage_size=np.sqrt(t.damage_size)"
      ],
      "execution_count": 17,
      "outputs": []
    },
    {
      "cell_type": "code",
      "metadata": {
        "id": "oZQ47qIouwON"
      },
      "source": [
        "t.exposed_area=np.sqrt(t.exposed_area)"
      ],
      "execution_count": 18,
      "outputs": []
    },
    {
      "cell_type": "code",
      "metadata": {
        "id": "hjy5w4_Duxbr"
      },
      "source": [
        "t.std_dev_malign=np.log1p(t.std_dev_malign)"
      ],
      "execution_count": 19,
      "outputs": []
    },
    {
      "cell_type": "code",
      "metadata": {
        "id": "g5vBKCA-uzCg"
      },
      "source": [
        "t.malign_penalty=np.sqrt(t.malign_penalty)"
      ],
      "execution_count": 20,
      "outputs": []
    },
    {
      "cell_type": "code",
      "metadata": {
        "id": "XWtGvSXTu1Av"
      },
      "source": [
        "#Dropping features with high corr\n",
        "t.drop(\"size_npear\",axis=1,inplace=True)"
      ],
      "execution_count": 21,
      "outputs": []
    },
    {
      "cell_type": "code",
      "metadata": {
        "id": "sxzYbN-au66A"
      },
      "source": [
        "#FEATURE ENGINEERING\n",
        "t[\"p/e\"]=t.malign_penalty/t.err_malign\n",
        "t[\"mass/exposed_area\"]=(t.mass_npea/t.exposed_area)\n",
        "t[\"mass/std\"]=t.mass_npea/t.std_dev_malign\n",
        "t[\"error/std\"]=t.err_malign/t.std_dev_malign\n",
        "t[\"m/a*s\"]=t[\"mass/exposed_area\"]*t.damage_size\n",
        "t[\"m/a_sqrt\"]=np.sqrt(t[\"mass/exposed_area\"])\n",
        "t[\"error-penalty\"]=t.damage_ratio-t.malign_ratio\n",
        "t[\"FE1\"]=t[\"mass/exposed_area\"]*t[\"p/e\"]\n",
        "t[\"FE2\"]=t[\"mass/exposed_area\"]*t[\"mass/std\"]\n",
        "t[\"FE3\"]=t.malign_ratio+t.std_dev_malign\n",
        "t[\"FE4\"]=t.damage_ratio-t.std_dev_malign\n",
        "t[\"FE5\"]=t[\"m/a*s\"]-t.malign_ratio"
      ],
      "execution_count": 22,
      "outputs": []
    },
    {
      "cell_type": "code",
      "metadata": {
        "id": "K-Bl_4yavJ5g",
        "outputId": "1cf2899c-b77c-44ed-a85b-824315669e5c",
        "colab": {
          "base_uri": "https://localhost:8080/",
          "height": 173
        }
      },
      "source": [
        "t.head(3)"
      ],
      "execution_count": 23,
      "outputs": [
        {
          "output_type": "execute_result",
          "data": {
            "text/html": [
              "<div>\n",
              "<style scoped>\n",
              "    .dataframe tbody tr th:only-of-type {\n",
              "        vertical-align: middle;\n",
              "    }\n",
              "\n",
              "    .dataframe tbody tr th {\n",
              "        vertical-align: top;\n",
              "    }\n",
              "\n",
              "    .dataframe thead th {\n",
              "        text-align: right;\n",
              "    }\n",
              "</style>\n",
              "<table border=\"1\" class=\"dataframe\">\n",
              "  <thead>\n",
              "    <tr style=\"text-align: right;\">\n",
              "      <th></th>\n",
              "      <th>mass_npea</th>\n",
              "      <th>malign_ratio</th>\n",
              "      <th>damage_size</th>\n",
              "      <th>exposed_area</th>\n",
              "      <th>std_dev_malign</th>\n",
              "      <th>err_malign</th>\n",
              "      <th>malign_penalty</th>\n",
              "      <th>damage_ratio</th>\n",
              "      <th>p/e</th>\n",
              "      <th>mass/exposed_area</th>\n",
              "      <th>mass/std</th>\n",
              "      <th>error/std</th>\n",
              "      <th>m/a*s</th>\n",
              "      <th>m/a_sqrt</th>\n",
              "      <th>error-penalty</th>\n",
              "      <th>FE1</th>\n",
              "      <th>FE2</th>\n",
              "      <th>FE3</th>\n",
              "      <th>FE4</th>\n",
              "      <th>FE5</th>\n",
              "    </tr>\n",
              "  </thead>\n",
              "  <tbody>\n",
              "    <tr>\n",
              "      <th>0</th>\n",
              "      <td>83.252027</td>\n",
              "      <td>0.351473</td>\n",
              "      <td>7.199292</td>\n",
              "      <td>994.399018</td>\n",
              "      <td>4.704898</td>\n",
              "      <td>2758.76</td>\n",
              "      <td>8.485281</td>\n",
              "      <td>39.3620</td>\n",
              "      <td>0.003076</td>\n",
              "      <td>0.083721</td>\n",
              "      <td>17.694758</td>\n",
              "      <td>586.359168</td>\n",
              "      <td>0.602732</td>\n",
              "      <td>0.289346</td>\n",
              "      <td>39.010527</td>\n",
              "      <td>0.000258</td>\n",
              "      <td>1.481422</td>\n",
              "      <td>5.056371</td>\n",
              "      <td>34.657102</td>\n",
              "      <td>0.251258</td>\n",
              "    </tr>\n",
              "    <tr>\n",
              "      <th>1</th>\n",
              "      <td>125.042793</td>\n",
              "      <td>0.271598</td>\n",
              "      <td>14.951589</td>\n",
              "      <td>1434.721681</td>\n",
              "      <td>5.520985</td>\n",
              "      <td>5952.53</td>\n",
              "      <td>15.491933</td>\n",
              "      <td>22.0253</td>\n",
              "      <td>0.002603</td>\n",
              "      <td>0.087155</td>\n",
              "      <td>22.648639</td>\n",
              "      <td>1078.164532</td>\n",
              "      <td>1.303102</td>\n",
              "      <td>0.295220</td>\n",
              "      <td>21.753702</td>\n",
              "      <td>0.000227</td>\n",
              "      <td>1.973936</td>\n",
              "      <td>5.792583</td>\n",
              "      <td>16.504315</td>\n",
              "      <td>1.031503</td>\n",
              "    </tr>\n",
              "    <tr>\n",
              "      <th>2</th>\n",
              "      <td>101.863634</td>\n",
              "      <td>0.224670</td>\n",
              "      <td>11.284370</td>\n",
              "      <td>1197.779654</td>\n",
              "      <td>5.081982</td>\n",
              "      <td>4635.26</td>\n",
              "      <td>8.544004</td>\n",
              "      <td>29.9963</td>\n",
              "      <td>0.001843</td>\n",
              "      <td>0.085044</td>\n",
              "      <td>20.044077</td>\n",
              "      <td>912.096924</td>\n",
              "      <td>0.959665</td>\n",
              "      <td>0.291623</td>\n",
              "      <td>29.771630</td>\n",
              "      <td>0.000157</td>\n",
              "      <td>1.704623</td>\n",
              "      <td>5.306652</td>\n",
              "      <td>24.914318</td>\n",
              "      <td>0.734994</td>\n",
              "    </tr>\n",
              "  </tbody>\n",
              "</table>\n",
              "</div>"
            ],
            "text/plain": [
              "    mass_npea  malign_ratio  damage_size  ...       FE3        FE4       FE5\n",
              "0   83.252027      0.351473     7.199292  ...  5.056371  34.657102  0.251258\n",
              "1  125.042793      0.271598    14.951589  ...  5.792583  16.504315  1.031503\n",
              "2  101.863634      0.224670    11.284370  ...  5.306652  24.914318  0.734994\n",
              "\n",
              "[3 rows x 20 columns]"
            ]
          },
          "metadata": {
            "tags": []
          },
          "execution_count": 23
        }
      ]
    },
    {
      "cell_type": "code",
      "metadata": {
        "id": "BNXA3TZAvLs8",
        "outputId": "f7f3b1e5-2ab0-4945-eee7-7d669f04956a",
        "colab": {
          "base_uri": "https://localhost:8080/",
          "height": 34
        }
      },
      "source": [
        "t.shape, train.shape , test.shape , target.shape"
      ],
      "execution_count": 24,
      "outputs": [
        {
          "output_type": "execute_result",
          "data": {
            "text/plain": [
              "((45730, 20), (9146, 9), (36584, 9), (9146,))"
            ]
          },
          "metadata": {
            "tags": []
          },
          "execution_count": 24
        }
      ]
    },
    {
      "cell_type": "code",
      "metadata": {
        "id": "edptxcvkvN3c"
      },
      "source": [
        "#data splitting\n",
        "trn=t[0:9146]\n",
        "tst=t[9146:]"
      ],
      "execution_count": 25,
      "outputs": []
    },
    {
      "cell_type": "code",
      "metadata": {
        "id": "ZEUA_3E2vQQH"
      },
      "source": [
        "#ENSEMBLING\n",
        "from sklearn.ensemble import StackingRegressor\n",
        "from sklearn.ensemble import ExtraTreesRegressor\n",
        "from sklearn.ensemble import BaggingRegressor\n",
        "from lightgbm import LGBMRegressor\n",
        "\n",
        "bag=BaggingRegressor(n_estimators=150,max_features=13)\n",
        "lgb=LGBMRegressor(n_estimators=900,num_leaves=48,reg_lambda=50,reg_alpha=20)\n",
        "etc=ExtraTreesRegressor(n_estimators=400,max_depth=26,min_samples_split=2,max_features=10)"
      ],
      "execution_count": 26,
      "outputs": []
    },
    {
      "cell_type": "code",
      "metadata": {
        "id": "CYf9HfTEvTlH",
        "outputId": "9c1f7f74-c9e5-4529-f378-daa09ad506d2",
        "colab": {
          "base_uri": "https://localhost:8080/",
          "height": 114
        }
      },
      "source": [
        "\n",
        "tst.loc[tst[\"err_malign\"] == 0.0]"
      ],
      "execution_count": 27,
      "outputs": [
        {
          "output_type": "execute_result",
          "data": {
            "text/html": [
              "<div>\n",
              "<style scoped>\n",
              "    .dataframe tbody tr th:only-of-type {\n",
              "        vertical-align: middle;\n",
              "    }\n",
              "\n",
              "    .dataframe tbody tr th {\n",
              "        vertical-align: top;\n",
              "    }\n",
              "\n",
              "    .dataframe thead th {\n",
              "        text-align: right;\n",
              "    }\n",
              "</style>\n",
              "<table border=\"1\" class=\"dataframe\">\n",
              "  <thead>\n",
              "    <tr style=\"text-align: right;\">\n",
              "      <th></th>\n",
              "      <th>mass_npea</th>\n",
              "      <th>malign_ratio</th>\n",
              "      <th>damage_size</th>\n",
              "      <th>exposed_area</th>\n",
              "      <th>std_dev_malign</th>\n",
              "      <th>err_malign</th>\n",
              "      <th>malign_penalty</th>\n",
              "      <th>damage_ratio</th>\n",
              "      <th>p/e</th>\n",
              "      <th>mass/exposed_area</th>\n",
              "      <th>mass/std</th>\n",
              "      <th>error/std</th>\n",
              "      <th>m/a*s</th>\n",
              "      <th>m/a_sqrt</th>\n",
              "      <th>error-penalty</th>\n",
              "      <th>FE1</th>\n",
              "      <th>FE2</th>\n",
              "      <th>FE3</th>\n",
              "      <th>FE4</th>\n",
              "      <th>FE5</th>\n",
              "    </tr>\n",
              "  </thead>\n",
              "  <tbody>\n",
              "    <tr>\n",
              "      <th>9526</th>\n",
              "      <td>129.032554</td>\n",
              "      <td>0.315446</td>\n",
              "      <td>13.467516</td>\n",
              "      <td>1499.067596</td>\n",
              "      <td>5.555596</td>\n",
              "      <td>0.0</td>\n",
              "      <td>11.532563</td>\n",
              "      <td>25.3804</td>\n",
              "      <td>inf</td>\n",
              "      <td>0.086075</td>\n",
              "      <td>23.225692</td>\n",
              "      <td>0.0</td>\n",
              "      <td>1.159219</td>\n",
              "      <td>0.293386</td>\n",
              "      <td>25.064954</td>\n",
              "      <td>inf</td>\n",
              "      <td>1.999156</td>\n",
              "      <td>5.871041</td>\n",
              "      <td>19.824804</td>\n",
              "      <td>0.843774</td>\n",
              "    </tr>\n",
              "  </tbody>\n",
              "</table>\n",
              "</div>"
            ],
            "text/plain": [
              "       mass_npea  malign_ratio  damage_size  ...       FE3        FE4       FE5\n",
              "9526  129.032554      0.315446    13.467516  ...  5.871041  19.824804  0.843774\n",
              "\n",
              "[1 rows x 20 columns]"
            ]
          },
          "metadata": {
            "tags": []
          },
          "execution_count": 27
        }
      ]
    },
    {
      "cell_type": "code",
      "metadata": {
        "id": "no-gyt8wvVVT",
        "outputId": "33056507-a29c-4d12-e4bb-f7ccb0da54a2",
        "colab": {
          "base_uri": "https://localhost:8080/",
          "height": 101
        }
      },
      "source": [
        "tst[\"p/e\"][9526]=-1\n",
        "tst[\"FE1\"][9526]=-1"
      ],
      "execution_count": 28,
      "outputs": [
        {
          "output_type": "stream",
          "text": [
            "/usr/local/lib/python3.6/dist-packages/IPython/core/interactiveshell.py:2882: SettingWithCopyWarning: \n",
            "A value is trying to be set on a copy of a slice from a DataFrame\n",
            "\n",
            "See the caveats in the documentation: https://pandas.pydata.org/pandas-docs/stable/user_guide/indexing.html#returning-a-view-versus-a-copy\n",
            "  exec(code_obj, self.user_global_ns, self.user_ns)\n"
          ],
          "name": "stderr"
        }
      ]
    },
    {
      "cell_type": "code",
      "metadata": {
        "id": "lPbqjed9vYxk"
      },
      "source": [
        "estimators=[(\"bag\",bag),(\"lgb\",lgb),(\"etc\",etc)]"
      ],
      "execution_count": 29,
      "outputs": []
    },
    {
      "cell_type": "code",
      "metadata": {
        "id": "d1ddce-EvdmQ"
      },
      "source": [
        "reg = StackingRegressor(estimators=estimators)"
      ],
      "execution_count": 30,
      "outputs": []
    },
    {
      "cell_type": "code",
      "metadata": {
        "id": "9GXl_Rokve74",
        "outputId": "03d41bbe-a7fb-4534-dab9-7d138befebdf",
        "colab": {
          "base_uri": "https://localhost:8080/",
          "height": 34
        }
      },
      "source": [
        "scores=cross_val_score(reg, trn,target, cv = 5, scoring = \"neg_root_mean_squared_error\")\n",
        "scores.mean()"
      ],
      "execution_count": 31,
      "outputs": [
        {
          "output_type": "execute_result",
          "data": {
            "text/plain": [
              "-3.5806480493257213"
            ]
          },
          "metadata": {
            "tags": []
          },
          "execution_count": 31
        }
      ]
    },
    {
      "cell_type": "code",
      "metadata": {
        "id": "asKBaGnbvg40"
      },
      "source": [
        "reg.fit(trn,target)\n",
        "pre=reg.predict(tst)\n",
        "sub[\"tumor_size\"]=pre\n",
        "sub.to_csv(\"sub_02.csv\",index=False)"
      ],
      "execution_count": 32,
      "outputs": []
    },
    {
      "cell_type": "code",
      "metadata": {
        "id": "K3b1Zbxo1ifS"
      },
      "source": [
        ""
      ],
      "execution_count": null,
      "outputs": []
    }
  ]
}